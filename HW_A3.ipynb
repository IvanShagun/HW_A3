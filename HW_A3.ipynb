{
 "cells": [
  {
   "cell_type": "code",
   "execution_count": 4,
   "id": "3371905c",
   "metadata": {},
   "outputs": [],
   "source": [
    "import nbimporter"
   ]
  },
  {
   "cell_type": "code",
   "execution_count": 5,
   "id": "42863c2c",
   "metadata": {},
   "outputs": [],
   "source": [
    "import numpy as np"
   ]
  },
  {
   "cell_type": "code",
   "execution_count": 6,
   "id": "00121562",
   "metadata": {},
   "outputs": [],
   "source": [
    "from math import *"
   ]
  },
  {
   "cell_type": "code",
   "execution_count": 7,
   "id": "f576622f",
   "metadata": {},
   "outputs": [],
   "source": [
    "from Formula import *"
   ]
  },
  {
   "cell_type": "markdown",
   "id": "b0d76589",
   "metadata": {},
   "source": [
    "#### Даны значения зарплат из выборки выпускников: 100, 80, 75, 77, 89, 33, 45, 25, 65, 17, 30, 24, 57, 55, 70, 75, 65, 84, 90, 150. Посчитать (желательно без использования статистических методов наподобие std, var, mean) среднее арифметическое, среднее квадратичное отклонение, смещенную и несмещенную оценки дисперсий для данной выборки."
   ]
  },
  {
   "cell_type": "code",
   "execution_count": 8,
   "id": "b47fe8f2",
   "metadata": {},
   "outputs": [],
   "source": [
    "vyb = np.array([100, 80, 75, 77, 89, 33, 45, 25, 65, 17, 30, 24, 57, 55, 70, 75, 65, 84, 90, 150])"
   ]
  },
  {
   "cell_type": "markdown",
   "id": "2c9594f5",
   "metadata": {},
   "source": [
    "####  среднее арифметическое"
   ]
  },
  {
   "cell_type": "code",
   "execution_count": 9,
   "id": "fb755906",
   "metadata": {},
   "outputs": [
    {
     "data": {
      "text/plain": [
       "65.3"
      ]
     },
     "execution_count": 9,
     "metadata": {},
     "output_type": "execute_result"
    }
   ],
   "source": [
    "ma = sum(vyb)/len(vyb)\n",
    "ma"
   ]
  },
  {
   "cell_type": "markdown",
   "id": "afd785d3",
   "metadata": {},
   "source": [
    "Ответ: 65.3"
   ]
  },
  {
   "cell_type": "markdown",
   "id": "589c51a1",
   "metadata": {},
   "source": [
    "#### среднее квадратичное отклонение (несмещенное, т.к. объем < 100)"
   ]
  },
  {
   "cell_type": "code",
   "execution_count": 10,
   "id": "f6a9b3d8",
   "metadata": {},
   "outputs": [
    {
     "data": {
      "text/plain": [
       "31.624607341019814"
      ]
     },
     "execution_count": 10,
     "metadata": {},
     "output_type": "execute_result"
    }
   ],
   "source": [
    "np.sqrt(sum([(i-ma)**2 for i in vyb])/(len(vyb)-1))\n",
    "    "
   ]
  },
  {
   "cell_type": "markdown",
   "id": "1235b48e",
   "metadata": {},
   "source": [
    "Ответ: 31.62"
   ]
  },
  {
   "cell_type": "markdown",
   "id": "a2642590",
   "metadata": {},
   "source": [
    "#### смещенная оценка дисперсии"
   ]
  },
  {
   "cell_type": "code",
   "execution_count": 11,
   "id": "0fe7168b",
   "metadata": {},
   "outputs": [
    {
     "data": {
      "text/plain": [
       "950.11"
      ]
     },
     "execution_count": 11,
     "metadata": {},
     "output_type": "execute_result"
    }
   ],
   "source": [
    "sum([(i-ma)**2 for i in vyb])/len(vyb)"
   ]
  },
  {
   "cell_type": "markdown",
   "id": "d8b6feda",
   "metadata": {},
   "source": [
    "Ответ: 950.11"
   ]
  },
  {
   "cell_type": "markdown",
   "id": "050f61b5",
   "metadata": {},
   "source": [
    "#### несмещенная оценка дисперсии"
   ]
  },
  {
   "cell_type": "code",
   "execution_count": 12,
   "id": "2a6e9fd8",
   "metadata": {},
   "outputs": [
    {
     "data": {
      "text/plain": [
       "1000.1157894736842"
      ]
     },
     "execution_count": 12,
     "metadata": {},
     "output_type": "execute_result"
    }
   ],
   "source": [
    "sum([(i-ma)**2 for i in vyb])/(len(vyb)-1)"
   ]
  },
  {
   "cell_type": "markdown",
   "id": "9b83cb78",
   "metadata": {},
   "source": [
    "Ответ:1000.11"
   ]
  },
  {
   "cell_type": "markdown",
   "id": "dd734e3c",
   "metadata": {},
   "source": [
    "#### В первом ящике находится 8 мячей, из которых 5 - белые. Во втором ящике - 12 мячей, из которых 5 белых. Из первого ящика вытаскивают случайным образом два мяча, из второго - 4. Какова вероятность того, что 3 мяча белые?"
   ]
  },
  {
   "cell_type": "markdown",
   "id": "ad2b0577",
   "metadata": {},
   "source": [
    "- 2 мяча из первой корзины и 1 из второй: $ \\frac{С^{2}_{5}}{С^{2}_{8}} * \\frac{С^{1}_{5}С^{3}_{7}}{C^{4}_{12}}$<br><br>\n",
    "- 1 мяч из первой корзины и 2 мяча из второй: $ \\frac{С^{1}_{5}С^{1}_{3}}{C^{2}_{8}} * \\frac{С^{2}_{5}С^{2}_{7}}{C^{4}_{12}} $<br><br>\n",
    "- 3 мяча из третьей корзины: $ \\frac{С^{2}_{3}}{С^{2}_{8}} * \\frac{С^{3}_{5}С^{1}_{7}}{C^{4}_{12}} $<br><br>\n",
    "$ \\frac{С^{2}_{5}}{С^{2}_{8}} * \\frac{С^{1}_{5}С^{3}_{7}}{C^{4}_{12}} + \\frac{С^{1}_{5}С^{1}_{3}}{C^{2}_{8}} * \\frac{С^{2}_{5}С^{2}_{7}}{C^{4}_{12}} + \\frac{С^{2}_{3}}{С^{2}_{8}} * \\frac{С^{3}_{5}С^{1}_{7}}{C^{4}_{12}} $"
   ]
  },
  {
   "cell_type": "code",
   "execution_count": 13,
   "id": "f7c3bb8f",
   "metadata": {},
   "outputs": [
    {
     "data": {
      "text/plain": [
       "36.868686868686865"
      ]
     },
     "execution_count": 13,
     "metadata": {},
     "output_type": "execute_result"
    }
   ],
   "source": [
    "((soch(2, 5)/soch(2, 8))*((soch(1, 5)*soch(3, 7)/soch(4, 12)))+((soch(1, 5)*soch(1, 3)/soch(2, 8)))*\\\n",
    "((soch(2, 5)*soch(2, 7)/soch(4, 12)))+(soch(2, 3)/soch(2, 8))*((soch(3, 5)*soch(1, 7)/soch(4, 12))))*100"
   ]
  },
  {
   "cell_type": "markdown",
   "id": "f3f4b509",
   "metadata": {},
   "source": [
    "Ответ: 36.86%"
   ]
  },
  {
   "cell_type": "markdown",
   "id": "a23ace90",
   "metadata": {},
   "source": [
    "#### На соревновании по биатлону один из трех спортсменов стреляет и попадает в мишень. Вероятность попадания для первого спортсмена равна 0.9, для второго — 0.8, для третьего — 0.6. Найти вероятность того, что выстрел произведен: a). первым спортсменом б). вторым спортсменом в). третьим спортсменом."
   ]
  },
  {
   "cell_type": "markdown",
   "id": "401c3972",
   "metadata": {},
   "source": [
    "Для данной задачи применима формула Байеса, т.к. попадание уже произошло<br>\n",
    "$ P(B|A)=\\frac{P(A|B)*P(B)}{P(A)} $<br>\n",
    "$P(B)$ = 0.333 для всех стрелков<br>\n",
    "$P(A|B)$ = 0.9, 0.8, 0.6 для 1, 2, 3 стрелка соответственно<br>\n",
    "$P(A)$ = 0.333 * 0.9 + 0.333 * 0.8 + 0.333 * 0.6"
   ]
  },
  {
   "cell_type": "code",
   "execution_count": 14,
   "id": "8fa2b622",
   "metadata": {},
   "outputs": [
    {
     "data": {
      "text/plain": [
       "39.130434782608695"
      ]
     },
     "execution_count": 14,
     "metadata": {},
     "output_type": "execute_result"
    }
   ],
   "source": [
    "((0.9*0.333)/(0.333*0.9+0.333*0.8+0.333*0.6))*100"
   ]
  },
  {
   "cell_type": "code",
   "execution_count": 15,
   "id": "1d9d8108",
   "metadata": {},
   "outputs": [
    {
     "data": {
      "text/plain": [
       "34.78260869565218"
      ]
     },
     "execution_count": 15,
     "metadata": {},
     "output_type": "execute_result"
    }
   ],
   "source": [
    "((0.8*0.333)/(0.333*0.9+0.333*0.8+0.333*0.6))*100"
   ]
  },
  {
   "cell_type": "code",
   "execution_count": 16,
   "id": "5e70024b",
   "metadata": {},
   "outputs": [
    {
     "data": {
      "text/plain": [
       "26.08695652173913"
      ]
     },
     "execution_count": 16,
     "metadata": {},
     "output_type": "execute_result"
    }
   ],
   "source": [
    "((0.6*0.333)/(0.333*0.9+0.333*0.8+0.333*0.6))*100"
   ]
  },
  {
   "cell_type": "markdown",
   "id": "b75ff928",
   "metadata": {},
   "source": [
    "Ответ: 39.13%,  34.78%,  26.08%"
   ]
  },
  {
   "cell_type": "markdown",
   "id": "a0b05220",
   "metadata": {},
   "source": [
    "#### В университет на факультеты A и B поступило равное количество студентов, а на факультет C студентов поступило столько же, сколько на A и B вместе. Вероятность того, что студент факультета A сдаст первую сессию, равна 0.8. Для студента факультета B эта вероятность равна 0.7, а для студента факультета C - 0.9. Студент сдал первую сессию. Какова вероятность, что он учится: a). на факультете A б). на факультете B в). на факультете C?"
   ]
  },
  {
   "cell_type": "markdown",
   "id": "4554a7b4",
   "metadata": {},
   "source": [
    "Для данной задачи применима формула Байеса, т.к. экзамен уже сдан.<br>\n",
    "$ P(B|A)=\\frac{P(A|B)*P(B)}{P(A)} $<br>\n",
    "$P(B)$ = 0.25, 0.25, 0.5 для A, B, C соответственно<br>\n",
    "$P(A|B)$ = 0.8, 0.7, 0.9 для A, B, C соответственно<br>\n",
    "$P(A)$ = 0.25 * 0.8 + 0.25 * 0.7 + 0.5 * 0.9"
   ]
  },
  {
   "cell_type": "code",
   "execution_count": 17,
   "id": "90af2e88",
   "metadata": {},
   "outputs": [
    {
     "data": {
      "text/plain": [
       "24.242424242424246"
      ]
     },
     "execution_count": 17,
     "metadata": {},
     "output_type": "execute_result"
    }
   ],
   "source": [
    "((0.8*0.25)/(0.8*0.25+0.7*0.25+0.9*0.5))*100"
   ]
  },
  {
   "cell_type": "code",
   "execution_count": 18,
   "id": "59adde81",
   "metadata": {},
   "outputs": [
    {
     "data": {
      "text/plain": [
       "21.21212121212121"
      ]
     },
     "execution_count": 18,
     "metadata": {},
     "output_type": "execute_result"
    }
   ],
   "source": [
    "((0.7*0.25)/(0.8*0.25+0.7*0.25+0.9*0.5))*100"
   ]
  },
  {
   "cell_type": "code",
   "execution_count": 19,
   "id": "ebdc6b45",
   "metadata": {},
   "outputs": [
    {
     "data": {
      "text/plain": [
       "54.545454545454554"
      ]
     },
     "execution_count": 19,
     "metadata": {},
     "output_type": "execute_result"
    }
   ],
   "source": [
    "((0.9*0.5)/(0.8*0.25+0.7*0.25+0.9*0.5))*100"
   ]
  },
  {
   "cell_type": "markdown",
   "id": "f961ad26",
   "metadata": {},
   "source": [
    "Ответ: 24.24%,  21.21%,  54.54%"
   ]
  },
  {
   "cell_type": "markdown",
   "id": "01f3d6fb",
   "metadata": {},
   "source": [
    "#### Устройство состоит из трех деталей. Для первой детали вероятность выйти из строя в первый месяц равна 0.1, для второй - 0.2, для третьей - 0.25. Какова вероятность того, что в первый месяц выйдут из строя: а). все детали б). только две детали в). хотя бы одна деталь г). от одной до двух деталей?"
   ]
  },
  {
   "cell_type": "markdown",
   "id": "7c747692",
   "metadata": {},
   "source": [
    "#### а)  все детали\n",
    "События наступают одновременно:<br> $P(B_3)=P(A_1)*P(A_2)*P(A_3)$"
   ]
  },
  {
   "cell_type": "code",
   "execution_count": 20,
   "id": "9b76de06",
   "metadata": {},
   "outputs": [
    {
     "data": {
      "text/plain": [
       "0.5000000000000001"
      ]
     },
     "execution_count": 20,
     "metadata": {},
     "output_type": "execute_result"
    }
   ],
   "source": [
    "(0.1*0.2*0.25)*100"
   ]
  },
  {
   "cell_type": "markdown",
   "id": "4dba4b95",
   "metadata": {},
   "source": [
    "Ответ: 0.5%"
   ]
  },
  {
   "cell_type": "markdown",
   "id": "8185cb68",
   "metadata": {},
   "source": [
    "#### б) только две детали<br>\n",
    "Либо 1 и 2, 3 - рабочая, либо 2 и 3, 1 - рабочая, либо 1 и 3, 2 - рабочая<br>\n",
    "$P(B_2)=P(A_1)*P(A_2)*(1-P(A_3))+P(A_2)*P(A_3)*(1-P(A_1))+P(A_1)*P(A_3)**(1-P(A_2))$"
   ]
  },
  {
   "cell_type": "code",
   "execution_count": 21,
   "id": "984723ed",
   "metadata": {},
   "outputs": [
    {
     "data": {
      "text/plain": [
       "8.000000000000002"
      ]
     },
     "execution_count": 21,
     "metadata": {},
     "output_type": "execute_result"
    }
   ],
   "source": [
    "two = 0.1*0.2*(1-0.25)+0.2*0.25*(1-0.1)+0.1*0.25*(1-0.2)\n",
    "two*100"
   ]
  },
  {
   "cell_type": "markdown",
   "id": "4ba62fe7",
   "metadata": {},
   "source": [
    "Ответ: 8%"
   ]
  },
  {
   "cell_type": "markdown",
   "id": "1a1ce496",
   "metadata": {},
   "source": [
    "#### в) хотя бы одна деталь<br>\n",
    "Вероятность, обратная вероятности того, что ни одна не выйдет из строя<br>\n",
    "$P(B_1) = 1-(1-P(A_1))*(1-P(A_2))*(1-P(A_3))$"
   ]
  },
  {
   "cell_type": "code",
   "execution_count": 22,
   "id": "824ac657",
   "metadata": {},
   "outputs": [
    {
     "data": {
      "text/plain": [
       "46.0"
      ]
     },
     "execution_count": 22,
     "metadata": {},
     "output_type": "execute_result"
    }
   ],
   "source": [
    "(1-(0.9*0.8*0.75))*100"
   ]
  },
  {
   "cell_type": "markdown",
   "id": "d86cd143",
   "metadata": {},
   "source": [
    "Ответ: 46%"
   ]
  },
  {
   "cell_type": "markdown",
   "id": "60c2f09c",
   "metadata": {},
   "source": [
    "####  г) от одной до двух деталей<br>\n",
    "Либо одна, либо две:<br>\n",
    "$P(B_{1,2})=P(B_1)+P(B_2)$\n",
    "$P(B_1)=P(A_1)**(1-P(A_2)*(1-P(A_3)+P(A_2)*(1-P(A_1)*(1-P(A_3)+P(A_3)*(1-P(A_1)*(1-P(A_3)$"
   ]
  },
  {
   "cell_type": "code",
   "execution_count": 29,
   "id": "e7030cc7",
   "metadata": {},
   "outputs": [
    {
     "data": {
      "text/plain": [
       "0.375"
      ]
     },
     "execution_count": 29,
     "metadata": {},
     "output_type": "execute_result"
    }
   ],
   "source": [
    "one = 0.1*(1-0.2)*(1-0.25)+0.2*(1-0.1)*(1-0.25)+0.25*(1-0.1)*(1-0.2)\n",
    "one"
   ]
  },
  {
   "cell_type": "code",
   "execution_count": 24,
   "id": "00e16d21",
   "metadata": {},
   "outputs": [
    {
     "data": {
      "text/plain": [
       "45.5"
      ]
     },
     "execution_count": 24,
     "metadata": {},
     "output_type": "execute_result"
    }
   ],
   "source": [
    "(one + two)*100"
   ]
  },
  {
   "cell_type": "markdown",
   "id": "e5907892",
   "metadata": {},
   "source": [
    "Ответ: 45.5%"
   ]
  }
 ],
 "metadata": {
  "kernelspec": {
   "display_name": "Python 3 (ipykernel)",
   "language": "python",
   "name": "python3"
  },
  "language_info": {
   "codemirror_mode": {
    "name": "ipython",
    "version": 3
   },
   "file_extension": ".py",
   "mimetype": "text/x-python",
   "name": "python",
   "nbconvert_exporter": "python",
   "pygments_lexer": "ipython3",
   "version": "3.11.3"
  }
 },
 "nbformat": 4,
 "nbformat_minor": 5
}
